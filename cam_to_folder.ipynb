{
 "cells": [
  {
   "cell_type": "markdown",
   "metadata": {},
   "source": [
    "# Webcam to Folder/Directory Notebook"
   ]
  },
  {
   "cell_type": "markdown",
   "metadata": {},
   "source": [
    "### -To help save multiple preprocessed face images to the relevant directory"
   ]
  },
  {
   "cell_type": "code",
   "execution_count": 3,
   "metadata": {},
   "outputs": [
    {
     "ename": "error",
     "evalue": "OpenCV(4.8.0) D:\\a\\opencv-python\\opencv-python\\opencv\\modules\\highgui\\src\\window.cpp:1272: error: (-2:Unspecified error) The function is not implemented. Rebuild the library with Windows, GTK+ 2.x or Cocoa support. If you are on Ubuntu or Debian, install libgtk2.0-dev and pkg-config, then re-run cmake or configure script in function 'cvShowImage'\n",
     "output_type": "error",
     "traceback": [
      "\u001b[1;31m---------------------------------------------------------------------------\u001b[0m",
      "\u001b[1;31merror\u001b[0m                                     Traceback (most recent call last)",
      "Cell \u001b[1;32mIn[3], line 53\u001b[0m\n\u001b[0;32m     50\u001b[0m     capture_and_save_image(name)\n\u001b[0;32m     52\u001b[0m \u001b[39mif\u001b[39;00m \u001b[39m__name__\u001b[39m \u001b[39m==\u001b[39m \u001b[39m\"\u001b[39m\u001b[39m__main__\u001b[39m\u001b[39m\"\u001b[39m:\n\u001b[1;32m---> 53\u001b[0m     main()\n",
      "Cell \u001b[1;32mIn[3], line 50\u001b[0m, in \u001b[0;36mmain\u001b[1;34m()\u001b[0m\n\u001b[0;32m     43\u001b[0m name \u001b[39m=\u001b[39m \u001b[39minput\u001b[39m(\u001b[39m\"\u001b[39m\u001b[39mEnter your name: \u001b[39m\u001b[39m\"\u001b[39m)\n\u001b[0;32m     45\u001b[0m \u001b[39m# Create the \"Known_Faces\" folder if it doesn't exist\u001b[39;00m\n\u001b[0;32m     46\u001b[0m \u001b[39m# if not os.path.exists(f'Images/{name}'):\u001b[39;00m\n\u001b[0;32m     47\u001b[0m \u001b[39m#     os.mkdir(f'Images/{name}')\u001b[39;00m\n\u001b[0;32m     48\u001b[0m \n\u001b[0;32m     49\u001b[0m \u001b[39m# Capture and save the image\u001b[39;00m\n\u001b[1;32m---> 50\u001b[0m capture_and_save_image(name)\n",
      "Cell \u001b[1;32mIn[3], line 19\u001b[0m, in \u001b[0;36mcapture_and_save_image\u001b[1;34m(name)\u001b[0m\n\u001b[0;32m     16\u001b[0m frame \u001b[39m=\u001b[39m frame[\u001b[39m120\u001b[39m:\u001b[39m120\u001b[39m\u001b[39m+\u001b[39m\u001b[39m250\u001b[39m,\u001b[39m200\u001b[39m:\u001b[39m200\u001b[39m\u001b[39m+\u001b[39m\u001b[39m250\u001b[39m, :]\n\u001b[0;32m     18\u001b[0m \u001b[39m# Display the video stream in a window\u001b[39;00m\n\u001b[1;32m---> 19\u001b[0m cv2\u001b[39m.\u001b[39;49mimshow(\u001b[39m'\u001b[39;49m\u001b[39mCapture Image\u001b[39;49m\u001b[39m'\u001b[39;49m, frame)\n\u001b[0;32m     21\u001b[0m \u001b[39m# Wait for the user to press a key (maximum delay of 10 milliseconds)\u001b[39;00m\n\u001b[0;32m     22\u001b[0m key \u001b[39m=\u001b[39m cv2\u001b[39m.\u001b[39mwaitKey(\u001b[39m10\u001b[39m)\n",
      "\u001b[1;31merror\u001b[0m: OpenCV(4.8.0) D:\\a\\opencv-python\\opencv-python\\opencv\\modules\\highgui\\src\\window.cpp:1272: error: (-2:Unspecified error) The function is not implemented. Rebuild the library with Windows, GTK+ 2.x or Cocoa support. If you are on Ubuntu or Debian, install libgtk2.0-dev and pkg-config, then re-run cmake or configure script in function 'cvShowImage'\n"
     ]
    }
   ],
   "source": [
    "import cv2\n",
    "import os\n",
    "import uuid\n",
    "\n",
    "def capture_and_save_image(name):\n",
    "    # Open the default camera (usually the webcam)\n",
    "    cap = cv2.VideoCapture(0)\n",
    "\n",
    "    # Set the camera resolution to 250x250\n",
    "    # cap.set(cv2.CAP_PROP_FRAME_WIDTH, 250)\n",
    "    # cap.set(cv2.CAP_PROP_FRAME_HEIGHT, 250)\n",
    "\n",
    "    # Loop until the user presses the 'b' key\n",
    "    while True:\n",
    "        ret, frame = cap.read()\n",
    "        frame = frame[120:120+250,200:200+250, :]\n",
    "\n",
    "        # Display the video stream in a window\n",
    "        cv2.imshow('Capture Image', frame)\n",
    "\n",
    "        # Wait for the user to press a key (maximum delay of 10 milliseconds)\n",
    "        key = cv2.waitKey(10)\n",
    "\n",
    "        # If the user presses the 'b' key (ASCII value 98), save the image and exit the loop\n",
    "        if key == 98:\n",
    "            # Convert the image to greyscale\n",
    "            grey_frame = cv2.cvtColor(frame, cv2.COLOR_BGR2GRAY)\n",
    "\n",
    "            # Save the greyscale image to the \"Known_Faces\" folder with the provided name\n",
    "            filename = os.path.join('Images', f'{name}', f'{uuid.uuid1()}.jpg')\n",
    "            cv2.imwrite(filename, grey_frame)\n",
    "\n",
    "            print(f\"Image saved as {filename}\")\n",
    "        elif key == 113:\n",
    "            break\n",
    "\n",
    "    # Release the camera and close the OpenCV windows\n",
    "    cap.release()\n",
    "    cv2.destroyAllWindows()\n",
    "\n",
    "def main():\n",
    "    # Prompt the user for their name\n",
    "    name = input(\"Enter your name: \")\n",
    "\n",
    "    # Create the \"Known_Faces\" folder if it doesn't exist\n",
    "    # if not os.path.exists(f'Images/{name}'):\n",
    "    #     os.mkdir(f'Images/{name}')\n",
    "\n",
    "    # Capture and save the image\n",
    "    capture_and_save_image(name)\n",
    "\n",
    "if __name__ == \"__main__\":\n",
    "    main()\n"
   ]
  }
 ],
 "metadata": {
  "kernelspec": {
   "display_name": "base",
   "language": "python",
   "name": "python3"
  },
  "language_info": {
   "codemirror_mode": {
    "name": "ipython",
    "version": 3
   },
   "file_extension": ".py",
   "mimetype": "text/x-python",
   "name": "python",
   "nbconvert_exporter": "python",
   "pygments_lexer": "ipython3",
   "version": "3.10.9"
  },
  "orig_nbformat": 4
 },
 "nbformat": 4,
 "nbformat_minor": 2
}
