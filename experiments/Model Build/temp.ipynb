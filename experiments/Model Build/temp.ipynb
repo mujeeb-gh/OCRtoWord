{
 "cells": [
  {
   "cell_type": "code",
   "execution_count": 4,
   "id": "cf8f4f1e",
   "metadata": {},
   "outputs": [
    {
     "name": "stdout",
     "output_type": "stream",
     "text": [
      "1/1 [==============================] - 0s 54ms/step\n",
      "Decoded Text: L\n"
     ]
    }
   ],
   "source": [
    "import cv2\n",
    "import numpy as np\n",
    "import tensorflow as tf\n",
    "from tensorflow.keras.models import load_model\n",
    "\n",
    "# Load the trained OCR model\n",
    "model = load_model('saved_model/ocr_model.h5')\n",
    "\n",
    "# Load and preprocess the input image\n",
    "def preprocess_image(image_path):\n",
    "    img = cv2.imread(image_path, cv2.IMREAD_GRAYSCALE)\n",
    "    img = cv2.resize(img, (28, 28)) / 255.0\n",
    "    img = np.expand_dims(img, axis=0)  # Add batch dimension\n",
    "    return img\n",
    "\n",
    "# Path to the image you want to perform OCR on\n",
    "input_image_path = '../Images/sign.png'\n",
    "\n",
    "# Preprocess the image\n",
    "input_image = preprocess_image(input_image_path)\n",
    "\n",
    "# Perform prediction\n",
    "predictions = model.predict(input_image)\n",
    "\n",
    "# Decode the predictions into text\n",
    "def decode_predictions(predictions):\n",
    "    char_set = 'ABCDEFGHIJKLMNOPQRSTUVWXYZ0123456789'\n",
    "    decoded_text = ''\n",
    "    for pred in predictions:\n",
    "        decoded_char_index = np.argmax(pred)\n",
    "        decoded_text += char_set[decoded_char_index]\n",
    "    return decoded_text\n",
    "\n",
    "decoded_text = decode_predictions(predictions)\n",
    "\n",
    "print(\"Decoded Text:\", decoded_text)\n"
   ]
  },
  {
   "cell_type": "code",
   "execution_count": null,
   "id": "9eb9ea9b",
   "metadata": {},
   "outputs": [],
   "source": []
  },
  {
   "cell_type": "code",
   "execution_count": null,
   "id": "43423763",
   "metadata": {},
   "outputs": [],
   "source": []
  }
 ],
 "metadata": {
  "kernelspec": {
   "display_name": "Python 3 (ipykernel)",
   "language": "python",
   "name": "python3"
  },
  "language_info": {
   "codemirror_mode": {
    "name": "ipython",
    "version": 3
   },
   "file_extension": ".py",
   "mimetype": "text/x-python",
   "name": "python",
   "nbconvert_exporter": "python",
   "pygments_lexer": "ipython3",
   "version": "3.10.9"
  },
  "varInspector": {
   "cols": {
    "lenName": 16,
    "lenType": 16,
    "lenVar": 40
   },
   "kernels_config": {
    "python": {
     "delete_cmd_postfix": "",
     "delete_cmd_prefix": "del ",
     "library": "var_list.py",
     "varRefreshCmd": "print(var_dic_list())"
    },
    "r": {
     "delete_cmd_postfix": ") ",
     "delete_cmd_prefix": "rm(",
     "library": "var_list.r",
     "varRefreshCmd": "cat(var_dic_list()) "
    }
   },
   "types_to_exclude": [
    "module",
    "function",
    "builtin_function_or_method",
    "instance",
    "_Feature"
   ],
   "window_display": false
  }
 },
 "nbformat": 4,
 "nbformat_minor": 5
}
