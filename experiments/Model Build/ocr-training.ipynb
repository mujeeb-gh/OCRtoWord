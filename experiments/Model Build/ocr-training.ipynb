{
 "cells": [
  {
   "cell_type": "code",
   "execution_count": 1,
   "metadata": {
    "_cell_guid": "b1076dfc-b9ad-4769-8c92-a6c4dae69d19",
    "_uuid": "8f2839f25d086af736a60e9eeb907d3b93b6e0e5",
    "execution": {
     "iopub.execute_input": "2021-10-07T13:41:47.912756Z",
     "iopub.status.busy": "2021-10-07T13:41:47.911865Z",
     "iopub.status.idle": "2021-10-07T13:41:47.940304Z",
     "shell.execute_reply": "2021-10-07T13:41:47.939534Z",
     "shell.execute_reply.started": "2021-10-07T13:41:47.912608Z"
    }
   },
   "outputs": [],
   "source": [
    "# This Python 3 environment comes with many helpful analytics libraries installed\n",
    "# It is defined by the kaggle/python Docker image: https://github.com/kaggle/docker-python\n",
    "# For example, here's several helpful packages to load\n",
    "\n",
    "import numpy as np # linear algebra\n",
    "import pandas as pd # data processing, CSV file I/O (e.g. pd.read_csv)\n",
    "\n",
    "# Input data files are available in the read-only \"../input/\" directory\n",
    "# For example, running this (by clicking run or pressing Shift+Enter) will list all files under the input directory\n",
    "\n",
    "# import os\n",
    "# for dirname, _, filenames in os.walk('/kaggle/input'):\n",
    "#     for filename in filenames:\n",
    "#         print(os.path.join(dirname, filename))\n",
    "\n",
    "# You can write up to 20GB to the current directory (/kaggle/working/) that gets preserved as output when you create a version using \"Save & Run All\" \n",
    "# You can also write temporary files to /kaggle/temp/, but they won't be saved outside of the current session"
   ]
  },
  {
   "cell_type": "markdown",
   "metadata": {},
   "source": [
    "**Changing the directory to data2 folder**"
   ]
  },
  {
   "cell_type": "code",
   "execution_count": 2,
   "metadata": {
    "execution": {
     "iopub.execute_input": "2021-10-07T15:58:18.91879Z",
     "iopub.status.busy": "2021-10-07T15:58:18.918442Z",
     "iopub.status.idle": "2021-10-07T15:58:19.025904Z",
     "shell.execute_reply": "2021-10-07T15:58:19.025107Z",
     "shell.execute_reply.started": "2021-10-07T15:58:18.918699Z"
    }
   },
   "outputs": [],
   "source": [
    "import os\n",
    "os.chdir(\"./data\")"
   ]
  },
  {
   "cell_type": "markdown",
   "metadata": {},
   "source": [
    "### Importing Necessary Modules "
   ]
  },
  {
   "cell_type": "code",
   "execution_count": 3,
   "metadata": {
    "execution": {
     "iopub.execute_input": "2021-10-07T15:59:06.996171Z",
     "iopub.status.busy": "2021-10-07T15:59:06.995907Z",
     "iopub.status.idle": "2021-10-07T15:59:07.003378Z",
     "shell.execute_reply": "2021-10-07T15:59:07.001519Z",
     "shell.execute_reply.started": "2021-10-07T15:59:06.996144Z"
    }
   },
   "outputs": [],
   "source": [
    "\n",
    "import tensorflow as tf\n",
    "import datetime\n",
    "from tensorflow.keras.models import Sequential\n",
    "from tensorflow.keras.layers import Dense, Conv2D, Flatten, Dropout, MaxPooling2D\n",
    "from tensorflow.keras.preprocessing.image import ImageDataGenerator\n",
    "from tensorflow.keras import regularizers\n",
    "import matplotlib.pyplot as plt\n",
    "import cv2\n",
    "\n"
   ]
  },
  {
   "cell_type": "markdown",
   "metadata": {},
   "source": [
    "### Creating a Function to plot images "
   ]
  },
  {
   "cell_type": "code",
   "execution_count": 4,
   "metadata": {
    "execution": {
     "iopub.execute_input": "2021-10-07T15:59:07.408303Z",
     "iopub.status.busy": "2021-10-07T15:59:07.408028Z",
     "iopub.status.idle": "2021-10-07T15:59:07.414701Z",
     "shell.execute_reply": "2021-10-07T15:59:07.413804Z",
     "shell.execute_reply.started": "2021-10-07T15:59:07.408274Z"
    }
   },
   "outputs": [],
   "source": [
    "### defining some function to make our work easier\n",
    "import matplotlib.pyplot as plt\n",
    "\n",
    "# This function will plot images in the form of a grid with 1 row and 5 columns where images are placed in each column.\n",
    "def plot_images(images_arr, imageWidth, imageHeight):\n",
    "    fig, axes = plt.subplots(1, 5, figsize=(20, 20))\n",
    "    axes = axes.flatten()\n",
    "    for img, ax in zip(images_arr, axes):\n",
    "        ax.imshow(img.reshape(imageWidth, imageHeight), cmap=\"gray\")\n",
    "        ax.axis(\"off\")\n",
    "    plt.tight_layout()\n",
    "    plt.show()\n"
   ]
  },
  {
   "cell_type": "markdown",
   "metadata": {},
   "source": [
    "##### Some constants to be defined "
   ]
  },
  {
   "cell_type": "code",
   "execution_count": 5,
   "metadata": {
    "execution": {
     "iopub.execute_input": "2021-10-07T15:59:07.783753Z",
     "iopub.status.busy": "2021-10-07T15:59:07.78279Z",
     "iopub.status.idle": "2021-10-07T15:59:07.788275Z",
     "shell.execute_reply": "2021-10-07T15:59:07.787469Z",
     "shell.execute_reply.started": "2021-10-07T15:59:07.783694Z"
    }
   },
   "outputs": [],
   "source": [
    "batch_size = 32\n",
    "epochs = 50\n",
    "IMG_HEIGHT = 28\n",
    "IMG_WIDTH = 28"
   ]
  },
  {
   "cell_type": "markdown",
   "metadata": {},
   "source": [
    "### Image Data Generator \n",
    "We defined two data generators, one that augments the data to make our training more general and one that just scales and centers the data."
   ]
  },
  {
   "cell_type": "code",
   "execution_count": 6,
   "metadata": {
    "execution": {
     "iopub.execute_input": "2021-10-07T15:59:08.126822Z",
     "iopub.status.busy": "2021-10-07T15:59:08.12607Z",
     "iopub.status.idle": "2021-10-07T15:59:08.1328Z",
     "shell.execute_reply": "2021-10-07T15:59:08.131565Z",
     "shell.execute_reply.started": "2021-10-07T15:59:08.126778Z"
    }
   },
   "outputs": [],
   "source": [
    "def preprocessing_fun(img):\n",
    "#     print(img.shape)\n",
    "#     print(img)\n",
    "    img = cv2.cvtColor(img, cv2.COLOR_BGR2GRAY, CV_8UC1)\n",
    "    img = cv2.GaussianBlur(img,(3,3),0)\n",
    "    img = img.reshape((28,28,1))\n",
    "    thresh = cv2.adaptiveThreshold(img, 255, 1, 1, 11, 2)\n",
    "    print(thresh.shape)\n",
    "    \n",
    "\n",
    "#     img = img.reshape((28,28,1))\n",
    "\n",
    "#     img = np.where(img>140,1,0)\n",
    "#     img  = img/255\n",
    "#     return img"
   ]
  },
  {
   "cell_type": "code",
   "execution_count": 7,
   "metadata": {
    "execution": {
     "iopub.execute_input": "2021-10-07T15:59:08.305182Z",
     "iopub.status.busy": "2021-10-07T15:59:08.304948Z",
     "iopub.status.idle": "2021-10-07T15:59:08.310712Z",
     "shell.execute_reply": "2021-10-07T15:59:08.309693Z",
     "shell.execute_reply.started": "2021-10-07T15:59:08.305156Z"
    }
   },
   "outputs": [],
   "source": [
    "augmented_image_gen = ImageDataGenerator(\n",
    "        rescale = 1/255.0,\n",
    "    rotation_range=2,\n",
    "    width_shift_range=.1,\n",
    "    height_shift_range=.1,\n",
    "    zoom_range=0.1,\n",
    "    shear_range=2,\n",
    "    brightness_range=[0.9, 1.1],\n",
    "    validation_split=0.2,\n",
    "   \n",
    "   )\n",
    "\n",
    "normal_image_gen = ImageDataGenerator(\n",
    "    rescale = 1/255.0,\n",
    "    validation_split=0.2,\n",
    "  \n",
    "   )\n"
   ]
  },
  {
   "cell_type": "markdown",
   "metadata": {},
   "source": [
    "#### Using Data Generator generate batches to train our model"
   ]
  },
  {
   "cell_type": "code",
   "execution_count": 8,
   "metadata": {
    "execution": {
     "iopub.execute_input": "2021-10-07T15:59:08.664593Z",
     "iopub.status.busy": "2021-10-07T15:59:08.664045Z",
     "iopub.status.idle": "2021-10-07T15:59:09.761927Z",
     "shell.execute_reply": "2021-10-07T15:59:09.760528Z",
     "shell.execute_reply.started": "2021-10-07T15:59:08.664555Z"
    }
   },
   "outputs": [
    {
     "name": "stdout",
     "output_type": "stream",
     "text": [
      "Found 16524 images belonging to 36 classes.\n",
      "Found 180 images belonging to 36 classes.\n"
     ]
    }
   ],
   "source": [
    "train_data_gen = augmented_image_gen.flow_from_directory(batch_size=batch_size,\n",
    "                                                     directory=\"./training_data\",\n",
    "                                                     color_mode=\"grayscale\",\n",
    "                                                     shuffle=True,\n",
    "                                                     target_size=(IMG_HEIGHT, IMG_WIDTH),\n",
    "                                                     class_mode=\"categorical\",\n",
    "                                                     seed=65657867,\n",
    "                                                     subset='training')\n",
    "val_data_gen = normal_image_gen.flow_from_directory(batch_size=batch_size,\n",
    "                                                     directory=\"./testing_data\",\n",
    "                                                     color_mode=\"grayscale\",\n",
    "                                                     shuffle=True,\n",
    "                                                     target_size=(IMG_HEIGHT, IMG_WIDTH),\n",
    "                                                     class_mode=\"categorical\",\n",
    "                                                     seed=65657867,\n",
    "                                                     subset='validation')\n"
   ]
  },
  {
   "cell_type": "markdown",
   "metadata": {},
   "source": [
    "#### samples"
   ]
  },
  {
   "cell_type": "code",
   "execution_count": 9,
   "metadata": {
    "execution": {
     "iopub.execute_input": "2021-10-07T15:59:09.763926Z",
     "iopub.status.busy": "2021-10-07T15:59:09.763658Z",
     "iopub.status.idle": "2021-10-07T15:59:10.145317Z",
     "shell.execute_reply": "2021-10-07T15:59:10.144613Z",
     "shell.execute_reply.started": "2021-10-07T15:59:09.763893Z"
    }
   },
   "outputs": [
    {
     "data": {
      "image/png": "[encoded data removed]",
      "text/plain": [
       "<Figure size 2000x2000 with 5 Axes>"
      ]
     },
     "metadata": {},
     "output_type": "display_data"
    }
   ],
   "source": [
    "sample_training_images, _ = next(train_data_gen)\n",
    "plot_images(sample_training_images[:7], IMG_WIDTH, IMG_HEIGHT)"
   ]
  },
  {
   "cell_type": "markdown",
   "metadata": {},
   "source": [
    "### Defining our Sequential model "
   ]
  },
  {
   "cell_type": "code",
   "execution_count": 10,
   "metadata": {
    "execution": {
     "iopub.execute_input": "2021-10-07T15:59:10.147081Z",
     "iopub.status.busy": "2021-10-07T15:59:10.146812Z",
     "iopub.status.idle": "2021-10-07T15:59:10.154039Z",
     "shell.execute_reply": "2021-10-07T15:59:10.153092Z",
     "shell.execute_reply.started": "2021-10-07T15:59:10.147048Z"
    }
   },
   "outputs": [],
   "source": [
    "# model = Sequential([\n",
    "#     Conv2D(16, 3, \n",
    "#            padding='same',\n",
    "#            activation='relu',\n",
    "#            kernel_regularizer=regularizers.l2(0.0001),\n",
    "#            input_shape=(IMG_HEIGHT, IMG_WIDTH , 1)),\n",
    "#     MaxPooling2D(),\n",
    "#     Dropout(0.2),\n",
    "#     Flatten(),\n",
    "#     Dense(\n",
    "#         50,\n",
    "#         activation='relu',\n",
    "#         kernel_regularizer=regularizers.l2(0.0001)\n",
    "#     ),\n",
    "#     Dropout(0.2),\n",
    "#     Dense(36, activation='softmax')\n",
    "# ])\n",
    "\n",
    "from tensorflow.keras.optimizers import SGD\n",
    "# define cnn model\n",
    "def define_model():\n",
    "    model = Sequential()\n",
    "    model.add(Conv2D(32, (3, 3), activation='relu', kernel_initializer='he_uniform', input_shape=(28, 28, 1)))\n",
    "    model.add(MaxPooling2D((2, 2)))\n",
    "    model.add(Flatten())\n",
    "    model.add(Dense(100, activation='relu', kernel_initializer='he_uniform'))\n",
    "    model.add(Dense(36, activation='softmax'))\n",
    "    return model\n",
    "#     # compile model\n",
    "# \topt = SGD(lr=0.01, momentum=0.9)\n",
    "# \tmodel.compile(optimizer=opt, loss='categorical_crossentropy', metrics=['accuracy'])\n",
    "# \treturn model"
   ]
  },
  {
   "cell_type": "code",
   "execution_count": 11,
   "metadata": {
    "execution": {
     "iopub.execute_input": "2021-10-07T16:17:37.43526Z",
     "iopub.status.busy": "2021-10-07T16:17:37.434979Z",
     "iopub.status.idle": "2021-10-07T16:17:37.472999Z",
     "shell.execute_reply": "2021-10-07T16:17:37.472155Z",
     "shell.execute_reply.started": "2021-10-07T16:17:37.435234Z"
    }
   },
   "outputs": [],
   "source": [
    "model = define_model()"
   ]
  },
  {
   "cell_type": "code",
   "execution_count": 12,
   "metadata": {
    "execution": {
     "iopub.execute_input": "2021-10-07T16:17:38.404377Z",
     "iopub.status.busy": "2021-10-07T16:17:38.404122Z",
     "iopub.status.idle": "2021-10-07T16:17:38.40979Z",
     "shell.execute_reply": "2021-10-07T16:17:38.409066Z",
     "shell.execute_reply.started": "2021-10-07T16:17:38.40435Z"
    }
   },
   "outputs": [],
   "source": [
    "import tensorflow\n",
    "from tensorflow.keras.callbacks import EarlyStopping,ModelCheckpoint, ReduceLROnPlateau\n",
    "#Prepare call backs\n",
    "EarlyStop_callback = tensorflow.keras.callbacks.EarlyStopping(monitor='val_loss', patience=20, restore_best_weights=True)\n",
    "checkpoint = ModelCheckpoint('/kaggle/working/checkpoint',\n",
    "                             monitor = 'val_loss',mode = 'min',save_best_only= True)\n",
    "lr = ReduceLROnPlateau(monitor = 'val_loss',factor = 0.5,patience = 3,min_lr = 0.00001)\n",
    "my_callback=[EarlyStop_callback,checkpoint]"
   ]
  },
  {
   "cell_type": "markdown",
   "metadata": {},
   "source": [
    "### Actual training of our model"
   ]
  },
  {
   "cell_type": "code",
   "execution_count": null,
   "metadata": {},
   "outputs": [],
   "source": []
  },
  {
   "cell_type": "code",
   "execution_count": 13,
   "metadata": {
    "execution": {
     "iopub.execute_input": "2021-10-07T16:25:06.105033Z",
     "iopub.status.busy": "2021-10-07T16:25:06.104375Z",
     "iopub.status.idle": "2021-10-07T16:37:27.950253Z",
     "shell.execute_reply": "2021-10-07T16:37:27.949543Z",
     "shell.execute_reply.started": "2021-10-07T16:25:06.104983Z"
    }
   },
   "outputs": [
    {
     "name": "stderr",
     "output_type": "stream",
     "text": [
      "WARNING:absl:`lr` is deprecated in Keras optimizer, please use `learning_rate` or use the legacy optimizer, e.g.,tf.keras.optimizers.legacy.SGD.\n",
      "C:\\Users\\olami\\AppData\\Local\\Temp\\ipykernel_14592\\2607022695.py:5: UserWarning: `Model.fit_generator` is deprecated and will be removed in a future version. Please use `Model.fit`, which supports generators.\n",
      "  history = model.fit_generator(\n"
     ]
    },
    {
     "name": "stdout",
     "output_type": "stream",
     "text": [
      "Epoch 1/32\n",
      "516/516 [==============================] - ETA: 0s - loss: 3.0718 - categorical_accuracy: 0.1077INFO:tensorflow:Assets written to: /kaggle/working\\checkpoint\\assets\n"
     ]
    },
    {
     "name": "stderr",
     "output_type": "stream",
     "text": [
      "INFO:tensorflow:Assets written to: /kaggle/working\\checkpoint\\assets\n"
     ]
    },
    {
     "name": "stdout",
     "output_type": "stream",
     "text": [
      "516/516 [==============================] - 168s 325ms/step - loss: 3.0718 - categorical_accuracy: 0.1077 - val_loss: 1.7990 - val_categorical_accuracy: 0.3750\n",
      "Epoch 2/32\n",
      "516/516 [==============================] - ETA: 0s - loss: 1.3602 - categorical_accuracy: 0.5859INFO:tensorflow:Assets written to: /kaggle/working\\checkpoint\\assets\n"
     ]
    },
    {
     "name": "stderr",
     "output_type": "stream",
     "text": [
      "INFO:tensorflow:Assets written to: /kaggle/working\\checkpoint\\assets\n"
     ]
    },
    {
     "name": "stdout",
     "output_type": "stream",
     "text": [
      "516/516 [==============================] - 19s 37ms/step - loss: 1.3602 - categorical_accuracy: 0.5859 - val_loss: 0.2472 - val_categorical_accuracy: 0.9250\n",
      "Epoch 3/32\n",
      "515/516 [============================>.] - ETA: 0s - loss: 0.6140 - categorical_accuracy: 0.8289INFO:tensorflow:Assets written to: /kaggle/working\\checkpoint\\assets\n"
     ]
    },
    {
     "name": "stderr",
     "output_type": "stream",
     "text": [
      "INFO:tensorflow:Assets written to: /kaggle/working\\checkpoint\\assets\n"
     ]
    },
    {
     "name": "stdout",
     "output_type": "stream",
     "text": [
      "516/516 [==============================] - 19s 37ms/step - loss: 0.6138 - categorical_accuracy: 0.8290 - val_loss: 0.1681 - val_categorical_accuracy: 0.9375\n",
      "Epoch 4/32\n",
      "516/516 [==============================] - ETA: 0s - loss: 0.4393 - categorical_accuracy: 0.8714INFO:tensorflow:Assets written to: /kaggle/working\\checkpoint\\assets\n"
     ]
    },
    {
     "name": "stderr",
     "output_type": "stream",
     "text": [
      "INFO:tensorflow:Assets written to: /kaggle/working\\checkpoint\\assets\n"
     ]
    },
    {
     "name": "stdout",
     "output_type": "stream",
     "text": [
      "516/516 [==============================] - 19s 37ms/step - loss: 0.4393 - categorical_accuracy: 0.8714 - val_loss: 0.0884 - val_categorical_accuracy: 0.9625\n",
      "Epoch 5/32\n",
      "516/516 [==============================] - ETA: 0s - loss: 0.3656 - categorical_accuracy: 0.8956INFO:tensorflow:Assets written to: /kaggle/working\\checkpoint\\assets\n"
     ]
    },
    {
     "name": "stderr",
     "output_type": "stream",
     "text": [
      "INFO:tensorflow:Assets written to: /kaggle/working\\checkpoint\\assets\n"
     ]
    },
    {
     "name": "stdout",
     "output_type": "stream",
     "text": [
      "516/516 [==============================] - 19s 37ms/step - loss: 0.3656 - categorical_accuracy: 0.8956 - val_loss: 0.0846 - val_categorical_accuracy: 0.9688\n",
      "Epoch 6/32\n",
      "516/516 [==============================] - 18s 34ms/step - loss: 0.3178 - categorical_accuracy: 0.9109 - val_loss: 0.1191 - val_categorical_accuracy: 0.9438\n",
      "Epoch 7/32\n",
      "515/516 [============================>.] - ETA: 0s - loss: 0.3016 - categorical_accuracy: 0.9148INFO:tensorflow:Assets written to: /kaggle/working\\checkpoint\\assets\n"
     ]
    },
    {
     "name": "stderr",
     "output_type": "stream",
     "text": [
      "INFO:tensorflow:Assets written to: /kaggle/working\\checkpoint\\assets\n"
     ]
    },
    {
     "name": "stdout",
     "output_type": "stream",
     "text": [
      "516/516 [==============================] - 19s 36ms/step - loss: 0.3014 - categorical_accuracy: 0.9149 - val_loss: 0.0748 - val_categorical_accuracy: 0.9812\n",
      "Epoch 8/32\n",
      "515/516 [============================>.] - ETA: 0s - loss: 0.2775 - categorical_accuracy: 0.9185INFO:tensorflow:Assets written to: /kaggle/working\\checkpoint\\assets\n"
     ]
    },
    {
     "name": "stderr",
     "output_type": "stream",
     "text": [
      "INFO:tensorflow:Assets written to: /kaggle/working\\checkpoint\\assets\n"
     ]
    },
    {
     "name": "stdout",
     "output_type": "stream",
     "text": [
      "516/516 [==============================] - 20s 38ms/step - loss: 0.2771 - categorical_accuracy: 0.9186 - val_loss: 0.0549 - val_categorical_accuracy: 0.9750\n",
      "Epoch 9/32\n",
      "516/516 [==============================] - 19s 38ms/step - loss: 0.2492 - categorical_accuracy: 0.9241 - val_loss: 0.1022 - val_categorical_accuracy: 0.9563\n",
      "Epoch 10/32\n",
      "516/516 [==============================] - 19s 37ms/step - loss: 0.2530 - categorical_accuracy: 0.9223 - val_loss: 0.0678 - val_categorical_accuracy: 0.9688\n",
      "Epoch 11/32\n",
      "516/516 [==============================] - 18s 36ms/step - loss: 0.2392 - categorical_accuracy: 0.9291 - val_loss: 0.0973 - val_categorical_accuracy: 0.9563\n",
      "Epoch 12/32\n",
      "515/516 [============================>.] - ETA: 0s - loss: 0.2288 - categorical_accuracy: 0.9333INFO:tensorflow:Assets written to: /kaggle/working\\checkpoint\\assets\n"
     ]
    },
    {
     "name": "stderr",
     "output_type": "stream",
     "text": [
      "INFO:tensorflow:Assets written to: /kaggle/working\\checkpoint\\assets\n"
     ]
    },
    {
     "name": "stdout",
     "output_type": "stream",
     "text": [
      "516/516 [==============================] - 20s 39ms/step - loss: 0.2286 - categorical_accuracy: 0.9333 - val_loss: 0.0490 - val_categorical_accuracy: 0.9750\n",
      "Epoch 13/32\n",
      "516/516 [==============================] - ETA: 0s - loss: 0.2213 - categorical_accuracy: 0.9314INFO:tensorflow:Assets written to: /kaggle/working\\checkpoint\\assets\n"
     ]
    },
    {
     "name": "stderr",
     "output_type": "stream",
     "text": [
      "INFO:tensorflow:Assets written to: /kaggle/working\\checkpoint\\assets\n"
     ]
    },
    {
     "name": "stdout",
     "output_type": "stream",
     "text": [
      "516/516 [==============================] - 20s 38ms/step - loss: 0.2213 - categorical_accuracy: 0.9314 - val_loss: 0.0423 - val_categorical_accuracy: 0.9750\n",
      "Epoch 14/32\n",
      "516/516 [==============================] - 19s 36ms/step - loss: 0.2114 - categorical_accuracy: 0.9349 - val_loss: 0.0659 - val_categorical_accuracy: 0.9688\n",
      "Epoch 15/32\n",
      "516/516 [==============================] - ETA: 0s - loss: 0.2094 - categorical_accuracy: 0.9350INFO:tensorflow:Assets written to: /kaggle/working\\checkpoint\\assets\n"
     ]
    },
    {
     "name": "stderr",
     "output_type": "stream",
     "text": [
      "INFO:tensorflow:Assets written to: /kaggle/working\\checkpoint\\assets\n"
     ]
    },
    {
     "name": "stdout",
     "output_type": "stream",
     "text": [
      "516/516 [==============================] - 20s 38ms/step - loss: 0.2094 - categorical_accuracy: 0.9350 - val_loss: 0.0415 - val_categorical_accuracy: 0.9750\n",
      "Epoch 16/32\n",
      "516/516 [==============================] - 24s 46ms/step - loss: 0.1964 - categorical_accuracy: 0.9417 - val_loss: 0.0571 - val_categorical_accuracy: 0.9688\n",
      "Epoch 17/32\n",
      "516/516 [==============================] - 36s 71ms/step - loss: 0.1904 - categorical_accuracy: 0.9404 - val_loss: 0.0704 - val_categorical_accuracy: 0.9625\n",
      "Epoch 18/32\n",
      "516/516 [==============================] - 37s 71ms/step - loss: 0.1885 - categorical_accuracy: 0.9404 - val_loss: 0.0506 - val_categorical_accuracy: 0.9750\n",
      "Epoch 19/32\n",
      "516/516 [==============================] - 44s 84ms/step - loss: 0.1852 - categorical_accuracy: 0.9416 - val_loss: 0.0589 - val_categorical_accuracy: 0.9688\n",
      "Epoch 20/32\n",
      "516/516 [==============================] - 46s 89ms/step - loss: 0.1798 - categorical_accuracy: 0.9449 - val_loss: 0.0764 - val_categorical_accuracy: 0.9563\n",
      "Epoch 21/32\n",
      "516/516 [==============================] - 47s 90ms/step - loss: 0.1821 - categorical_accuracy: 0.9442 - val_loss: 0.0511 - val_categorical_accuracy: 0.9688\n",
      "Epoch 22/32\n",
      "516/516 [==============================] - 43s 83ms/step - loss: 0.1752 - categorical_accuracy: 0.9465 - val_loss: 0.0544 - val_categorical_accuracy: 0.9750\n",
      "Epoch 23/32\n",
      "516/516 [==============================] - 45s 87ms/step - loss: 0.1704 - categorical_accuracy: 0.9452 - val_loss: 0.0516 - val_categorical_accuracy: 0.9812\n",
      "Epoch 24/32\n",
      "516/516 [==============================] - 48s 92ms/step - loss: 0.1668 - categorical_accuracy: 0.9486 - val_loss: 0.0803 - val_categorical_accuracy: 0.9625\n",
      "Epoch 25/32\n",
      "516/516 [==============================] - 153s 298ms/step - loss: 0.1655 - categorical_accuracy: 0.9483 - val_loss: 0.0449 - val_categorical_accuracy: 0.9812\n",
      "Epoch 26/32\n",
      "516/516 [==============================] - 70s 136ms/step - loss: 0.1723 - categorical_accuracy: 0.9457 - val_loss: 0.0629 - val_categorical_accuracy: 0.9812\n",
      "Epoch 27/32\n",
      "516/516 [==============================] - ETA: 0s - loss: 0.1617 - categorical_accuracy: 0.9476INFO:tensorflow:Assets written to: /kaggle/working\\checkpoint\\assets\n"
     ]
    },
    {
     "name": "stderr",
     "output_type": "stream",
     "text": [
      "INFO:tensorflow:Assets written to: /kaggle/working\\checkpoint\\assets\n"
     ]
    },
    {
     "name": "stdout",
     "output_type": "stream",
     "text": [
      "516/516 [==============================] - 19s 37ms/step - loss: 0.1617 - categorical_accuracy: 0.9476 - val_loss: 0.0362 - val_categorical_accuracy: 0.9812\n",
      "Epoch 28/32\n",
      "516/516 [==============================] - 19s 37ms/step - loss: 0.1588 - categorical_accuracy: 0.9499 - val_loss: 0.0644 - val_categorical_accuracy: 0.9688\n",
      "Epoch 29/32\n",
      "516/516 [==============================] - 19s 37ms/step - loss: 0.1554 - categorical_accuracy: 0.9484 - val_loss: 0.0426 - val_categorical_accuracy: 0.9750\n",
      "Epoch 30/32\n",
      "516/516 [==============================] - 19s 37ms/step - loss: 0.1459 - categorical_accuracy: 0.9538 - val_loss: 0.0529 - val_categorical_accuracy: 0.9750\n",
      "Epoch 31/32\n",
      "516/516 [==============================] - 19s 38ms/step - loss: 0.1527 - categorical_accuracy: 0.9491 - val_loss: 0.0404 - val_categorical_accuracy: 0.9812\n",
      "Epoch 32/32\n",
      "516/516 [==============================] - 18s 35ms/step - loss: 0.1523 - categorical_accuracy: 0.9514 - val_loss: 0.0497 - val_categorical_accuracy: 0.9750\n"
     ]
    }
   ],
   "source": [
    "model.compile(optimizer=SGD(lr=0.01, momentum=0.9),\n",
    "              loss=tf.keras.losses.CategoricalCrossentropy(),\n",
    "              metrics=['categorical_accuracy'])\n",
    "\n",
    "history = model.fit_generator(\n",
    "    train_data_gen,\n",
    "    steps_per_epoch=train_data_gen.samples // batch_size,\n",
    "    epochs=32,\n",
    "    validation_data=val_data_gen,\n",
    "    validation_steps=val_data_gen.samples // batch_size,\n",
    "    callbacks = my_callback)"
   ]
  },
  {
   "cell_type": "code",
   "execution_count": 14,
   "metadata": {
    "execution": {
     "iopub.execute_input": "2021-10-07T16:39:01.803364Z",
     "iopub.status.busy": "2021-10-07T16:39:01.803109Z",
     "iopub.status.idle": "2021-10-07T16:39:02.141542Z",
     "shell.execute_reply": "2021-10-07T16:39:02.140856Z",
     "shell.execute_reply.started": "2021-10-07T16:39:01.803337Z"
    }
   },
   "outputs": [
    {
     "data": {
      "image/png": "[encoded data removed]",
      "text/plain": [
       "<Figure size 800x800 with 2 Axes>"
      ]
     },
     "metadata": {},
     "output_type": "display_data"
    }
   ],
   "source": [
    "acc = history.history['categorical_accuracy']\n",
    "val_acc = history.history['val_categorical_accuracy']\n",
    "\n",
    "loss = history.history['loss']\n",
    "\n",
    "\n",
    "\n",
    "val_loss = history.history['val_loss']\n",
    "\n",
    "epochs_range = range(32)\n",
    "\n",
    "plt.figure(figsize=(8, 8))\n",
    "plt.subplot(1, 2, 1)\n",
    "plt.plot(epochs_range, acc, label='Training Accuracy')\n",
    "plt.plot(epochs_range, val_acc, label='Validation Accuracy')\n",
    "plt.legend(loc='lower right')\n",
    "plt.title('Training and Validation Accuracy')\n",
    "\n",
    "plt.subplot(1, 2, 2)\n",
    "plt.plot(epochs_range, loss, label='Training Loss')\n",
    "plt.plot(epochs_range, val_loss, label='Validation Loss')\n",
    "plt.legend(loc='upper right')\n",
    "plt.title('Training and Validation Loss')\n",
    "plt.show()"
   ]
  },
  {
   "cell_type": "markdown",
   "metadata": {},
   "source": [
    "## Test our Model"
   ]
  },
  {
   "cell_type": "code",
   "execution_count": 15,
   "metadata": {
    "execution": {
     "iopub.execute_input": "2021-10-07T16:39:05.0369Z",
     "iopub.status.busy": "2021-10-07T16:39:05.036185Z",
     "iopub.status.idle": "2021-10-07T16:39:05.164254Z",
     "shell.execute_reply": "2021-10-07T16:39:05.163473Z",
     "shell.execute_reply.started": "2021-10-07T16:39:05.036863Z"
    }
   },
   "outputs": [
    {
     "name": "stdout",
     "output_type": "stream",
     "text": [
      "Found 1008 images belonging to 36 classes.\n"
     ]
    }
   ],
   "source": [
    "normal_image_gen = ImageDataGenerator(\n",
    "    samplewise_center=True,\n",
    "    samplewise_std_normalization=True\n",
    ")\n",
    "test_data_gen = normal_image_gen.flow_from_directory(batch_size=5193,\n",
    "                                                     directory=\"./testing_data\",\n",
    "                                                     color_mode=\"grayscale\",\n",
    "                                                     shuffle=True,\n",
    "                                                     target_size=(IMG_HEIGHT, IMG_WIDTH),\n",
    "                                                     class_mode=\"categorical\")"
   ]
  },
  {
   "cell_type": "code",
   "execution_count": 16,
   "metadata": {
    "execution": {
     "iopub.execute_input": "2021-10-07T16:39:05.65141Z",
     "iopub.status.busy": "2021-10-07T16:39:05.650884Z",
     "iopub.status.idle": "2021-10-07T16:39:07.318185Z",
     "shell.execute_reply": "2021-10-07T16:39:07.317455Z",
     "shell.execute_reply.started": "2021-10-07T16:39:05.651376Z"
    }
   },
   "outputs": [
    {
     "name": "stdout",
     "output_type": "stream",
     "text": [
      "32/32 [==============================] - 0s 4ms/step\n"
     ]
    }
   ],
   "source": [
    "from PIL import Image\n",
    "test_images, test_labels = next(test_data_gen)\n",
    "filenames = test_data_gen.filenames\n",
    "test_pred = model.predict(test_images)"
   ]
  },
  {
   "cell_type": "code",
   "execution_count": 17,
   "metadata": {
    "execution": {
     "iopub.execute_input": "2021-10-07T16:39:07.321734Z",
     "iopub.status.busy": "2021-10-07T16:39:07.321509Z",
     "iopub.status.idle": "2021-10-07T16:39:07.327862Z",
     "shell.execute_reply": "2021-10-07T16:39:07.327051Z",
     "shell.execute_reply.started": "2021-10-07T16:39:07.321708Z"
    }
   },
   "outputs": [],
   "source": [
    "\n",
    "true_labels = tf.argmax(test_labels,1)"
   ]
  },
  {
   "cell_type": "code",
   "execution_count": 18,
   "metadata": {
    "execution": {
     "iopub.execute_input": "2021-10-07T16:39:07.329895Z",
     "iopub.status.busy": "2021-10-07T16:39:07.329473Z",
     "iopub.status.idle": "2021-10-07T16:39:07.336127Z",
     "shell.execute_reply": "2021-10-07T16:39:07.335458Z",
     "shell.execute_reply.started": "2021-10-07T16:39:07.32986Z"
    }
   },
   "outputs": [],
   "source": [
    "predicted_labels = tf.argmax(test_pred,1)"
   ]
  },
  {
   "cell_type": "code",
   "execution_count": 19,
   "metadata": {
    "execution": {
     "iopub.execute_input": "2021-10-07T16:39:08.040261Z",
     "iopub.status.busy": "2021-10-07T16:39:08.040007Z",
     "iopub.status.idle": "2021-10-07T16:39:08.044203Z",
     "shell.execute_reply": "2021-10-07T16:39:08.043224Z",
     "shell.execute_reply.started": "2021-10-07T16:39:08.040233Z"
    }
   },
   "outputs": [],
   "source": [
    "import sklearn\n",
    "from sklearn.metrics import confusion_matrix,classification_report"
   ]
  },
  {
   "cell_type": "code",
   "execution_count": 20,
   "metadata": {
    "execution": {
     "iopub.execute_input": "2021-10-07T16:39:10.700824Z",
     "iopub.status.busy": "2021-10-07T16:39:10.700246Z",
     "iopub.status.idle": "2021-10-07T16:39:10.711901Z",
     "shell.execute_reply": "2021-10-07T16:39:10.710701Z",
     "shell.execute_reply.started": "2021-10-07T16:39:10.700781Z"
    }
   },
   "outputs": [
    {
     "data": {
      "text/plain": [
       "array([[ 1,  0,  0, ...,  0,  0,  0],\n",
       "       [ 0, 28,  0, ...,  0,  0,  0],\n",
       "       [ 0,  0, 26, ...,  0,  0,  2],\n",
       "       ...,\n",
       "       [ 0,  0,  0, ..., 28,  0,  0],\n",
       "       [ 0,  0,  0, ...,  0, 28,  0],\n",
       "       [ 0,  0,  0, ...,  0,  0, 28]], dtype=int64)"
      ]
     },
     "execution_count": 20,
     "metadata": {},
     "output_type": "execute_result"
    }
   ],
   "source": [
    "confusion_matrix(true_labels, predicted_labels)"
   ]
  },
  {
   "cell_type": "code",
   "execution_count": 28,
   "metadata": {
    "execution": {
     "iopub.execute_input": "2021-10-07T16:47:15.361395Z",
     "iopub.status.busy": "2021-10-07T16:47:15.361114Z",
     "iopub.status.idle": "2021-10-07T16:47:15.41344Z",
     "shell.execute_reply": "2021-10-07T16:47:15.412775Z",
     "shell.execute_reply.started": "2021-10-07T16:47:15.361367Z"
    }
   },
   "outputs": [
    {
     "name": "stdout",
     "output_type": "stream",
     "text": [
      "1/1 [==============================] - 0s 25ms/step\n"
     ]
    },
    {
     "data": {
      "text/plain": [
       "<tf.Tensor: shape=(1,), dtype=int64, numpy=array([23], dtype=int64)>"
      ]
     },
     "execution_count": 28,
     "metadata": {},
     "output_type": "execute_result"
    }
   ],
   "source": [
    "img = cv2.imread('testing_data/N/28333.png',0)\n",
    "img = img/255\n",
    "img = cv2.resize(img, (28,28))\n",
    "img = img.reshape((1,28,28,1))\n",
    "\n",
    "plt.show()\n",
    "\n",
    "tf.argmax(model.predict(img),1)"
   ]
  },
  {
   "cell_type": "markdown",
   "metadata": {},
   "source": [
    "### Perfect ! "
   ]
  },
  {
   "cell_type": "markdown",
   "metadata": {},
   "source": [
    "this model works well but somehow 0, O is bit confusing for this model as we know"
   ]
  },
  {
   "cell_type": "markdown",
   "metadata": {},
   "source": [
    "### Save Model"
   ]
  },
  {
   "cell_type": "markdown",
   "metadata": {},
   "source": [
    "#### Make sure change os.chdir(./data)"
   ]
  },
  {
   "cell_type": "code",
   "execution_count": 67,
   "metadata": {},
   "outputs": [],
   "source": [
    "# os.chdir('../')"
   ]
  },
  {
   "cell_type": "code",
   "execution_count": 70,
   "metadata": {},
   "outputs": [],
   "source": [
    "\n",
    "model.save('./saved_model/ocr_model.h5')\n",
    "# model.save('ocr_model.keras')"
   ]
  },
  {
   "cell_type": "code",
   "execution_count": 71,
   "metadata": {},
   "outputs": [],
   "source": [
    "from tensorflow.keras.models import load_model"
   ]
  },
  {
   "cell_type": "code",
   "execution_count": 72,
   "metadata": {},
   "outputs": [],
   "source": [
    "test_model = load_model('saved_model/ocr_model.h5')"
   ]
  }
 ],
 "metadata": {
  "kernelspec": {
   "display_name": "Python 3 (ipykernel)",
   "language": "python",
   "name": "python3"
  },
  "language_info": {
   "codemirror_mode": {
    "name": "ipython",
    "version": 3
   },
   "file_extension": ".py",
   "mimetype": "text/x-python",
   "name": "python",
   "nbconvert_exporter": "python",
   "pygments_lexer": "ipython3",
   "version": "3.10.9"
  },
  "varInspector": {
   "cols": {
    "lenName": 16,
    "lenType": 16,
    "lenVar": 40
   },
   "kernels_config": {
    "python": {
     "delete_cmd_postfix": "",
     "delete_cmd_prefix": "del ",
     "library": "var_list.py",
     "varRefreshCmd": "print(var_dic_list())"
    },
    "r": {
     "delete_cmd_postfix": ") ",
     "delete_cmd_prefix": "rm(",
     "library": "var_list.r",
     "varRefreshCmd": "cat(var_dic_list()) "
    }
   },
   "types_to_exclude": [
    "module",
    "function",
    "builtin_function_or_method",
    "instance",
    "_Feature"
   ],
   "window_display": false
  }
 },
 "nbformat": 4,
 "nbformat_minor": 4
}
